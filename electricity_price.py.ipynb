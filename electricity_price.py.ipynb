{
 "cells": [
  {
   "cell_type": "code",
   "execution_count": 2,
   "id": "57b8fbea",
   "metadata": {},
   "outputs": [],
   "source": [
    "# Importing the libraries \n",
    "\n",
    "import pandas as pd\n",
    "import numpy as np \n",
    "import matplotlib.pyplot as plt \n",
    "import seaborn as sns\n",
    "# %matplotlib inline\n",
    "\n",
    "# Ignore harmless warnings \n",
    "\n",
    "import warnings \n",
    "warnings.filterwarnings(\"ignore\")\n",
    "\n",
    "# Set to display all the columns in dataset\n",
    "\n",
    "pd.set_option(\"display.max_columns\", None)\n",
    "\n",
    "# Import psql to run queries \n",
    "\n",
    "import pandasql as psql"
   ]
  },
  {
   "cell_type": "code",
   "execution_count": 2,
   "id": "d0a80344",
   "metadata": {},
   "outputs": [
    {
     "data": {
      "text/html": [
       "<div>\n",
       "<style scoped>\n",
       "    .dataframe tbody tr th:only-of-type {\n",
       "        vertical-align: middle;\n",
       "    }\n",
       "\n",
       "    .dataframe tbody tr th {\n",
       "        vertical-align: top;\n",
       "    }\n",
       "\n",
       "    .dataframe thead th {\n",
       "        text-align: right;\n",
       "    }\n",
       "</style>\n",
       "<table border=\"1\" class=\"dataframe\">\n",
       "  <thead>\n",
       "    <tr style=\"text-align: right;\">\n",
       "      <th></th>\n",
       "      <th>date</th>\n",
       "      <th>day</th>\n",
       "      <th>period</th>\n",
       "      <th>nswprice</th>\n",
       "      <th>nswdemand</th>\n",
       "      <th>vicprice</th>\n",
       "      <th>vicdemand</th>\n",
       "      <th>transfer</th>\n",
       "      <th>class</th>\n",
       "    </tr>\n",
       "  </thead>\n",
       "  <tbody>\n",
       "    <tr>\n",
       "      <th>0</th>\n",
       "      <td>0.0</td>\n",
       "      <td>2</td>\n",
       "      <td>0.000000</td>\n",
       "      <td>0.056443</td>\n",
       "      <td>0.439155</td>\n",
       "      <td>0.003467</td>\n",
       "      <td>0.422915</td>\n",
       "      <td>0.414912</td>\n",
       "      <td>UP</td>\n",
       "    </tr>\n",
       "    <tr>\n",
       "      <th>1</th>\n",
       "      <td>0.0</td>\n",
       "      <td>2</td>\n",
       "      <td>0.021277</td>\n",
       "      <td>0.051699</td>\n",
       "      <td>0.415055</td>\n",
       "      <td>0.003467</td>\n",
       "      <td>0.422915</td>\n",
       "      <td>0.414912</td>\n",
       "      <td>UP</td>\n",
       "    </tr>\n",
       "    <tr>\n",
       "      <th>2</th>\n",
       "      <td>0.0</td>\n",
       "      <td>2</td>\n",
       "      <td>0.042553</td>\n",
       "      <td>0.051489</td>\n",
       "      <td>0.385004</td>\n",
       "      <td>0.003467</td>\n",
       "      <td>0.422915</td>\n",
       "      <td>0.414912</td>\n",
       "      <td>UP</td>\n",
       "    </tr>\n",
       "    <tr>\n",
       "      <th>3</th>\n",
       "      <td>0.0</td>\n",
       "      <td>2</td>\n",
       "      <td>0.063830</td>\n",
       "      <td>0.045485</td>\n",
       "      <td>0.314639</td>\n",
       "      <td>0.003467</td>\n",
       "      <td>0.422915</td>\n",
       "      <td>0.414912</td>\n",
       "      <td>UP</td>\n",
       "    </tr>\n",
       "    <tr>\n",
       "      <th>4</th>\n",
       "      <td>0.0</td>\n",
       "      <td>2</td>\n",
       "      <td>0.085106</td>\n",
       "      <td>0.042482</td>\n",
       "      <td>0.251116</td>\n",
       "      <td>0.003467</td>\n",
       "      <td>0.422915</td>\n",
       "      <td>0.414912</td>\n",
       "      <td>DOWN</td>\n",
       "    </tr>\n",
       "  </tbody>\n",
       "</table>\n",
       "</div>"
      ],
      "text/plain": [
       "   date  day    period  nswprice  nswdemand  vicprice  vicdemand  transfer  \\\n",
       "0   0.0    2  0.000000  0.056443   0.439155  0.003467   0.422915  0.414912   \n",
       "1   0.0    2  0.021277  0.051699   0.415055  0.003467   0.422915  0.414912   \n",
       "2   0.0    2  0.042553  0.051489   0.385004  0.003467   0.422915  0.414912   \n",
       "3   0.0    2  0.063830  0.045485   0.314639  0.003467   0.422915  0.414912   \n",
       "4   0.0    2  0.085106  0.042482   0.251116  0.003467   0.422915  0.414912   \n",
       "\n",
       "  class  \n",
       "0    UP  \n",
       "1    UP  \n",
       "2    UP  \n",
       "3    UP  \n",
       "4  DOWN  "
      ]
     },
     "execution_count": 2,
     "metadata": {},
     "output_type": "execute_result"
    }
   ],
   "source": [
    "# Load the HR data \n",
    "\n",
    "Edata = pd.read_csv(r\"C:\\\\Users\\\\Dell\\\\Downloads\\\\electricity.csv\", header=1)\n",
    "#hrdata = pd.read_csv(r\"D:\\00 Datasets\\00-Data\\HR_comma_sep.csv\", header=0)\n",
    "\n",
    "# Copy to back-up file\n",
    "\n",
    "Edata_bk = Edata.copy()\n",
    "\n",
    "# Display first 5 records\n",
    "\n",
    "Edata.head()"
   ]
  },
  {
   "cell_type": "code",
   "execution_count": 3,
   "id": "2213cb60",
   "metadata": {},
   "outputs": [
    {
     "name": "stdout",
     "output_type": "stream",
     "text": [
      "<class 'pandas.core.frame.DataFrame'>\n",
      "RangeIndex: 45312 entries, 0 to 45311\n",
      "Data columns (total 9 columns):\n",
      " #   Column     Non-Null Count  Dtype  \n",
      "---  ------     --------------  -----  \n",
      " 0   date       45312 non-null  float64\n",
      " 1   day        45312 non-null  int64  \n",
      " 2   period     45312 non-null  float64\n",
      " 3   nswprice   45312 non-null  float64\n",
      " 4   nswdemand  45312 non-null  float64\n",
      " 5   vicprice   45312 non-null  float64\n",
      " 6   vicdemand  45312 non-null  float64\n",
      " 7   transfer   45312 non-null  float64\n",
      " 8   class      45312 non-null  object \n",
      "dtypes: float64(7), int64(1), object(1)\n",
      "memory usage: 3.1+ MB\n"
     ]
    }
   ],
   "source": [
    "# Display the dataset information\n",
    "\n",
    "Edata.info()"
   ]
  },
  {
   "cell_type": "code",
   "execution_count": 4,
   "id": "dfe482af",
   "metadata": {},
   "outputs": [
    {
     "data": {
      "text/plain": [
       "date         0\n",
       "day          0\n",
       "period       0\n",
       "nswprice     0\n",
       "nswdemand    0\n",
       "vicprice     0\n",
       "vicdemand    0\n",
       "transfer     0\n",
       "class        0\n",
       "dtype: int64"
      ]
     },
     "execution_count": 4,
     "metadata": {},
     "output_type": "execute_result"
    }
   ],
   "source": [
    "#Checking for NULL values\n",
    "\n",
    "Edata.isnull().sum()"
   ]
  },
  {
   "cell_type": "code",
   "execution_count": 5,
   "id": "7269bf55",
   "metadata": {},
   "outputs": [
    {
     "data": {
      "text/html": [
       "<div>\n",
       "<style scoped>\n",
       "    .dataframe tbody tr th:only-of-type {\n",
       "        vertical-align: middle;\n",
       "    }\n",
       "\n",
       "    .dataframe tbody tr th {\n",
       "        vertical-align: top;\n",
       "    }\n",
       "\n",
       "    .dataframe thead th {\n",
       "        text-align: right;\n",
       "    }\n",
       "</style>\n",
       "<table border=\"1\" class=\"dataframe\">\n",
       "  <thead>\n",
       "    <tr style=\"text-align: right;\">\n",
       "      <th></th>\n",
       "      <th>date</th>\n",
       "      <th>day</th>\n",
       "      <th>period</th>\n",
       "      <th>nswprice</th>\n",
       "      <th>nswdemand</th>\n",
       "      <th>vicprice</th>\n",
       "      <th>vicdemand</th>\n",
       "      <th>transfer</th>\n",
       "      <th>class</th>\n",
       "    </tr>\n",
       "  </thead>\n",
       "  <tbody>\n",
       "  </tbody>\n",
       "</table>\n",
       "</div>"
      ],
      "text/plain": [
       "Empty DataFrame\n",
       "Columns: [date, day, period, nswprice, nswdemand, vicprice, vicdemand, transfer, class]\n",
       "Index: []"
      ]
     },
     "execution_count": 5,
     "metadata": {},
     "output_type": "execute_result"
    }
   ],
   "source": [
    "# Displaying Duplicate values with in dataset\n",
    "\n",
    "Edata[Edata.duplicated(keep='last')]"
   ]
  },
  {
   "cell_type": "code",
   "execution_count": 6,
   "id": "35ef24d0",
   "metadata": {},
   "outputs": [
    {
     "data": {
      "text/html": [
       "<div>\n",
       "<style scoped>\n",
       "    .dataframe tbody tr th:only-of-type {\n",
       "        vertical-align: middle;\n",
       "    }\n",
       "\n",
       "    .dataframe tbody tr th {\n",
       "        vertical-align: top;\n",
       "    }\n",
       "\n",
       "    .dataframe thead th {\n",
       "        text-align: right;\n",
       "    }\n",
       "</style>\n",
       "<table border=\"1\" class=\"dataframe\">\n",
       "  <thead>\n",
       "    <tr style=\"text-align: right;\">\n",
       "      <th></th>\n",
       "      <th>class</th>\n",
       "    </tr>\n",
       "  </thead>\n",
       "  <tbody>\n",
       "    <tr>\n",
       "      <th>0</th>\n",
       "      <td>UP</td>\n",
       "    </tr>\n",
       "    <tr>\n",
       "      <th>1</th>\n",
       "      <td>UP</td>\n",
       "    </tr>\n",
       "    <tr>\n",
       "      <th>2</th>\n",
       "      <td>UP</td>\n",
       "    </tr>\n",
       "    <tr>\n",
       "      <th>3</th>\n",
       "      <td>UP</td>\n",
       "    </tr>\n",
       "    <tr>\n",
       "      <th>4</th>\n",
       "      <td>DOWN</td>\n",
       "    </tr>\n",
       "    <tr>\n",
       "      <th>...</th>\n",
       "      <td>...</td>\n",
       "    </tr>\n",
       "    <tr>\n",
       "      <th>45307</th>\n",
       "      <td>DOWN</td>\n",
       "    </tr>\n",
       "    <tr>\n",
       "      <th>45308</th>\n",
       "      <td>DOWN</td>\n",
       "    </tr>\n",
       "    <tr>\n",
       "      <th>45309</th>\n",
       "      <td>DOWN</td>\n",
       "    </tr>\n",
       "    <tr>\n",
       "      <th>45310</th>\n",
       "      <td>UP</td>\n",
       "    </tr>\n",
       "    <tr>\n",
       "      <th>45311</th>\n",
       "      <td>DOWN</td>\n",
       "    </tr>\n",
       "  </tbody>\n",
       "</table>\n",
       "<p>45312 rows × 1 columns</p>\n",
       "</div>"
      ],
      "text/plain": [
       "      class\n",
       "0        UP\n",
       "1        UP\n",
       "2        UP\n",
       "3        UP\n",
       "4      DOWN\n",
       "...     ...\n",
       "45307  DOWN\n",
       "45308  DOWN\n",
       "45309  DOWN\n",
       "45310    UP\n",
       "45311  DOWN\n",
       "\n",
       "[45312 rows x 1 columns]"
      ]
     },
     "execution_count": 6,
     "metadata": {},
     "output_type": "execute_result"
    }
   ],
   "source": [
    "# Displaying target variable\n",
    "pd.DataFrame(Edata['class'])"
   ]
  },
  {
   "cell_type": "code",
   "execution_count": 7,
   "id": "6c228e76",
   "metadata": {},
   "outputs": [],
   "source": [
    "# Use LabelBinarizer for target variables\n",
    "\n",
    "from sklearn.preprocessing import LabelBinarizer\n",
    "\n",
    "LB = LabelBinarizer()\n",
    "\n",
    "Edata['class'] = LB.fit_transform(Edata['class'])"
   ]
  },
  {
   "cell_type": "code",
   "execution_count": 8,
   "id": "9d2ec0bc",
   "metadata": {},
   "outputs": [
    {
     "data": {
      "text/html": [
       "<div>\n",
       "<style scoped>\n",
       "    .dataframe tbody tr th:only-of-type {\n",
       "        vertical-align: middle;\n",
       "    }\n",
       "\n",
       "    .dataframe tbody tr th {\n",
       "        vertical-align: top;\n",
       "    }\n",
       "\n",
       "    .dataframe thead th {\n",
       "        text-align: right;\n",
       "    }\n",
       "</style>\n",
       "<table border=\"1\" class=\"dataframe\">\n",
       "  <thead>\n",
       "    <tr style=\"text-align: right;\">\n",
       "      <th></th>\n",
       "      <th>class</th>\n",
       "    </tr>\n",
       "  </thead>\n",
       "  <tbody>\n",
       "    <tr>\n",
       "      <th>0</th>\n",
       "      <td>1</td>\n",
       "    </tr>\n",
       "    <tr>\n",
       "      <th>1</th>\n",
       "      <td>1</td>\n",
       "    </tr>\n",
       "    <tr>\n",
       "      <th>2</th>\n",
       "      <td>1</td>\n",
       "    </tr>\n",
       "    <tr>\n",
       "      <th>3</th>\n",
       "      <td>1</td>\n",
       "    </tr>\n",
       "    <tr>\n",
       "      <th>4</th>\n",
       "      <td>0</td>\n",
       "    </tr>\n",
       "    <tr>\n",
       "      <th>...</th>\n",
       "      <td>...</td>\n",
       "    </tr>\n",
       "    <tr>\n",
       "      <th>45307</th>\n",
       "      <td>0</td>\n",
       "    </tr>\n",
       "    <tr>\n",
       "      <th>45308</th>\n",
       "      <td>0</td>\n",
       "    </tr>\n",
       "    <tr>\n",
       "      <th>45309</th>\n",
       "      <td>0</td>\n",
       "    </tr>\n",
       "    <tr>\n",
       "      <th>45310</th>\n",
       "      <td>1</td>\n",
       "    </tr>\n",
       "    <tr>\n",
       "      <th>45311</th>\n",
       "      <td>0</td>\n",
       "    </tr>\n",
       "  </tbody>\n",
       "</table>\n",
       "<p>45312 rows × 1 columns</p>\n",
       "</div>"
      ],
      "text/plain": [
       "       class\n",
       "0          1\n",
       "1          1\n",
       "2          1\n",
       "3          1\n",
       "4          0\n",
       "...      ...\n",
       "45307      0\n",
       "45308      0\n",
       "45309      0\n",
       "45310      1\n",
       "45311      0\n",
       "\n",
       "[45312 rows x 1 columns]"
      ]
     },
     "execution_count": 8,
     "metadata": {},
     "output_type": "execute_result"
    }
   ],
   "source": [
    "# Displaying target variable after labelling\n",
    "\n",
    "pd.DataFrame(Edata['class'])"
   ]
  },
  {
   "cell_type": "code",
   "execution_count": 9,
   "id": "21af277c",
   "metadata": {},
   "outputs": [
    {
     "data": {
      "text/plain": [
       "Index(['date', 'day', 'period', 'nswprice', 'nswdemand', 'vicprice',\n",
       "       'vicdemand', 'transfer', 'class'],\n",
       "      dtype='object')"
      ]
     },
     "execution_count": 9,
     "metadata": {},
     "output_type": "execute_result"
    }
   ],
   "source": [
    "# Display dataset columns\n",
    "\n",
    "Edata.columns\n"
   ]
  },
  {
   "cell_type": "code",
   "execution_count": 10,
   "id": "0a52941a",
   "metadata": {},
   "outputs": [
    {
     "data": {
      "text/plain": [
       "(45312, 9)"
      ]
     },
     "execution_count": 10,
     "metadata": {},
     "output_type": "execute_result"
    }
   ],
   "source": [
    "# Displaying number of columns and rows\n",
    "\n",
    "Edata.shape"
   ]
  },
  {
   "cell_type": "markdown",
   "id": "0f3075e6",
   "metadata": {},
   "source": [
    "# Eliminating outliers using 3-sigma method"
   ]
  },
  {
   "cell_type": "code",
   "execution_count": 11,
   "id": "9989e216",
   "metadata": {},
   "outputs": [
    {
     "data": {
      "text/plain": [
       "(45312, 9)"
      ]
     },
     "execution_count": 11,
     "metadata": {},
     "output_type": "execute_result"
    }
   ],
   "source": [
    "date_ul=Edata.date.mean()+3*Edata.date.std()\n",
    "date_ll=Edata.date.mean()-3*Edata.date.std()\n",
    "Edata1=Edata[(Edata.date<date_ul) & (Edata.date>date_ll)]\n",
    "Edata1.shape"
   ]
  },
  {
   "cell_type": "code",
   "execution_count": 12,
   "id": "38e26b0a",
   "metadata": {},
   "outputs": [
    {
     "data": {
      "text/plain": [
       "(45312, 9)"
      ]
     },
     "execution_count": 12,
     "metadata": {},
     "output_type": "execute_result"
    }
   ],
   "source": [
    "day_ul=Edata.day.mean()+3*Edata.day.std()\n",
    "day_ll=Edata.day.mean()-3*Edata.day.std()\n",
    "Edata1=Edata[(Edata.day<day_ul) & (Edata.day>day_ll)]\n",
    "Edata1.shape"
   ]
  },
  {
   "cell_type": "code",
   "execution_count": 13,
   "id": "c8f7762c",
   "metadata": {},
   "outputs": [
    {
     "data": {
      "text/plain": [
       "(45312, 9)"
      ]
     },
     "execution_count": 13,
     "metadata": {},
     "output_type": "execute_result"
    }
   ],
   "source": [
    "period_ul=Edata.period.mean()+3*Edata.period.std()\n",
    "period_ll=Edata.period.mean()-3*Edata.period.std()\n",
    "Edata1=Edata[(Edata.period<period_ul) & (Edata.period>period_ll)]\n",
    "Edata1.shape"
   ]
  },
  {
   "cell_type": "code",
   "execution_count": 14,
   "id": "829fcaec",
   "metadata": {},
   "outputs": [
    {
     "data": {
      "text/plain": [
       "(44960, 9)"
      ]
     },
     "execution_count": 14,
     "metadata": {},
     "output_type": "execute_result"
    }
   ],
   "source": [
    "nswprice_ul=Edata.nswprice.mean()+3*Edata.nswprice.std()\n",
    "nswprice_ll=Edata.nswprice.mean()-3*Edata.nswprice.std()\n",
    "Edata1=Edata[(Edata.nswprice<nswprice_ul) & (Edata.nswprice>nswprice_ll)]\n",
    "Edata1.shape"
   ]
  },
  {
   "cell_type": "code",
   "execution_count": 15,
   "id": "c1c7c081",
   "metadata": {},
   "outputs": [
    {
     "data": {
      "text/plain": [
       "(44942, 9)"
      ]
     },
     "execution_count": 15,
     "metadata": {},
     "output_type": "execute_result"
    }
   ],
   "source": [
    "nswdemand_ul=Edata1.nswdemand.mean()+3*Edata1.nswdemand.std()\n",
    "nswdemand_ll=Edata1.nswdemand.mean()-3*Edata1.nswdemand.std()\n",
    "Edata2=Edata1[(Edata1.nswdemand<nswdemand_ul) & (Edata1.nswdemand>nswdemand_ll)]\n",
    "Edata2.shape"
   ]
  },
  {
   "cell_type": "code",
   "execution_count": 16,
   "id": "92357820",
   "metadata": {},
   "outputs": [
    {
     "data": {
      "text/plain": [
       "(44926, 9)"
      ]
     },
     "execution_count": 16,
     "metadata": {},
     "output_type": "execute_result"
    }
   ],
   "source": [
    "vicprice_ul=Edata2.vicprice.mean()+3*Edata2.vicprice.std()\n",
    "vicprice_ll=Edata2.vicprice.mean()-3*Edata2.vicprice.std()\n",
    "Edata3=Edata2[(Edata2.vicprice<vicprice_ul) & (Edata2.vicprice>vicprice_ll)]\n",
    "Edata3.shape"
   ]
  },
  {
   "cell_type": "code",
   "execution_count": 17,
   "id": "dd089865",
   "metadata": {},
   "outputs": [
    {
     "data": {
      "text/plain": [
       "(44740, 9)"
      ]
     },
     "execution_count": 17,
     "metadata": {},
     "output_type": "execute_result"
    }
   ],
   "source": [
    "vicdemand_ul=Edata3.vicdemand.mean()+3*Edata3.vicdemand.std()\n",
    "vicdemand_ll=Edata3.vicdemand.mean()-3*Edata3.vicdemand.std()\n",
    "Edata4=Edata3[(Edata3.vicdemand<vicdemand_ul) & (Edata3.vicdemand>vicdemand_ll)]\n",
    "Edata4.shape"
   ]
  },
  {
   "cell_type": "code",
   "execution_count": 18,
   "id": "5b8cc567",
   "metadata": {},
   "outputs": [
    {
     "data": {
      "text/plain": [
       "(44721, 9)"
      ]
     },
     "execution_count": 18,
     "metadata": {},
     "output_type": "execute_result"
    }
   ],
   "source": [
    "transfer_ul=Edata4.transfer.mean()+3*Edata4.transfer.std()\n",
    "transfer_ll=Edata4.transfer.mean()-3*Edata4.transfer.std()\n",
    "Edata5=Edata4[(Edata4.transfer<transfer_ul) & (Edata4.transfer>transfer_ll)]\n",
    "Edata5.shape"
   ]
  },
  {
   "cell_type": "code",
   "execution_count": 19,
   "id": "4f6c33d6",
   "metadata": {},
   "outputs": [],
   "source": [
    "# Renaming Traget variable\n",
    "\n",
    "Edata5=Edata5.rename(columns={\"class\": \"Class\"})"
   ]
  },
  {
   "cell_type": "code",
   "execution_count": 20,
   "id": "e1539720",
   "metadata": {},
   "outputs": [
    {
     "data": {
      "text/plain": [
       "(44721, 9)"
      ]
     },
     "execution_count": 20,
     "metadata": {},
     "output_type": "execute_result"
    }
   ],
   "source": [
    "#Actually there are no out liers in between 0 and 1\n",
    "class_ul=Edata5.Class.mean()+3*Edata5.Class.std()\n",
    "class_ll=Edata5.Class.mean()-3*Edata5.Class.std()\n",
    "Edata5=Edata5[(Edata5.Class<class_ul) & (Edata5.Class>class_ll)]\n",
    "Edata5.shape"
   ]
  },
  {
   "cell_type": "code",
   "execution_count": 21,
   "id": "333423e9",
   "metadata": {},
   "outputs": [],
   "source": [
    "Edata=Edata5"
   ]
  },
  {
   "cell_type": "code",
   "execution_count": 22,
   "id": "b6b38e1a",
   "metadata": {},
   "outputs": [],
   "source": [
    "cols=['day']"
   ]
  },
  {
   "cell_type": "code",
   "execution_count": 24,
   "id": "c9fa76b4",
   "metadata": {},
   "outputs": [],
   "source": [
    "# Identify the independent and Target variables\n",
    "\n",
    "IndepVar = []\n",
    "for col in Edata.columns:\n",
    "    if col != 'Class':\n",
    "        IndepVar.append(col)\n",
    "\n",
    "TargetVar = 'Class'\n",
    "\n",
    "x = Edata[IndepVar]\n",
    "y = Edata[TargetVar]"
   ]
  },
  {
   "cell_type": "code",
   "execution_count": 25,
   "id": "0cdcf484",
   "metadata": {},
   "outputs": [
    {
     "data": {
      "text/plain": [
       "((31304, 8), (13417, 8), (31304,), (13417,))"
      ]
     },
     "execution_count": 25,
     "metadata": {},
     "output_type": "execute_result"
    }
   ],
   "source": [
    "# Splitting the dataset into train and test \n",
    "\n",
    "from sklearn.model_selection import train_test_split\n",
    "\n",
    "x_train, x_test, y_train, y_test = train_test_split(x, y, test_size = 0.30, stratify=y, random_state = 42)\n",
    "x_test_F1 = x_test.copy()\n",
    "x_train.shape, x_test.shape, y_train.shape, y_test.shape "
   ]
  },
  {
   "cell_type": "code",
   "execution_count": 26,
   "id": "b08f7b8c",
   "metadata": {},
   "outputs": [],
   "source": [
    "# Scaling the features by using MinMaxScaler\n",
    "\n",
    "from sklearn.preprocessing import MinMaxScaler\n",
    "\n",
    "mmscaler = MinMaxScaler(feature_range=(0, 1))\n",
    "\n",
    "x_train[cols] = mmscaler.fit_transform(x_train[cols])\n",
    "x_train = pd.DataFrame(x_train)\n",
    "\n",
    "x_test[cols] = mmscaler.fit_transform(x_test[cols])\n",
    "x_test = pd.DataFrame(x_test)"
   ]
  },
  {
   "cell_type": "code",
   "execution_count": 14,
   "id": "d5711b63",
   "metadata": {},
   "outputs": [
    {
     "data": {
      "text/html": [
       "<div>\n",
       "<style scoped>\n",
       "    .dataframe tbody tr th:only-of-type {\n",
       "        vertical-align: middle;\n",
       "    }\n",
       "\n",
       "    .dataframe tbody tr th {\n",
       "        vertical-align: top;\n",
       "    }\n",
       "\n",
       "    .dataframe thead th {\n",
       "        text-align: right;\n",
       "    }\n",
       "</style>\n",
       "<table border=\"1\" class=\"dataframe\">\n",
       "  <thead>\n",
       "    <tr style=\"text-align: right;\">\n",
       "      <th></th>\n",
       "      <th>Model Name</th>\n",
       "      <th>True_Positive</th>\n",
       "      <th>False_Negative</th>\n",
       "      <th>False_Positive</th>\n",
       "      <th>True_Negative</th>\n",
       "      <th>Accuracy</th>\n",
       "      <th>Precision</th>\n",
       "      <th>Recall</th>\n",
       "      <th>F1 Score</th>\n",
       "      <th>Specificity</th>\n",
       "      <th>MCC</th>\n",
       "      <th>ROC_AUC_Score</th>\n",
       "      <th>Balanced Accuracy</th>\n",
       "    </tr>\n",
       "  </thead>\n",
       "  <tbody>\n",
       "  </tbody>\n",
       "</table>\n",
       "</div>"
      ],
      "text/plain": [
       "Empty DataFrame\n",
       "Columns: [Model Name, True_Positive, False_Negative, False_Positive, True_Negative, Accuracy, Precision, Recall, F1 Score, Specificity, MCC, ROC_AUC_Score, Balanced Accuracy]\n",
       "Index: []"
      ]
     },
     "execution_count": 14,
     "metadata": {},
     "output_type": "execute_result"
    }
   ],
   "source": [
    "# Load the result dataset\n",
    "\n",
    "EMResults = pd.read_csv(r\"C:\\\\Users\\\\Dell\\\\Downloads\\\\HTResults.csv\", header=0)\n",
    "EMResults.head()"
   ]
  },
  {
   "cell_type": "code",
   "execution_count": null,
   "id": "fe9d0c4b",
   "metadata": {},
   "outputs": [],
   "source": [
    "# Build the Calssification models and compare the results\n",
    "\n",
    "from sklearn.linear_model import LogisticRegression\n",
    "from sklearn.tree import DecisionTreeClassifier\n",
    "from sklearn.ensemble import RandomForestClassifier\n",
    "from sklearn.ensemble import ExtraTreesClassifier\n",
    "from sklearn.neighbors import KNeighborsClassifier\n",
    "from sklearn.naive_bayes import GaussianNB\n",
    "from sklearn.svm import SVC\n",
    "from sklearn.ensemble import BaggingClassifier\n",
    "\n",
    "from sklearn.ensemble import GradientBoostingClassifier\n",
    "import lightgbm as lgb\n",
    "\n",
    "# Create objects of classification algorithm with default hyper-parameters\n",
    "\n",
    "ModelLR = LogisticRegression()\n",
    "ModelDC = DecisionTreeClassifier()\n",
    "ModelRF = RandomForestClassifier()\n",
    "ModelET = ExtraTreesClassifier()\n",
    "ModelKNN = KNeighborsClassifier(n_neighbors=5)\n",
    "ModelSVM = SVC(probability=True)\n",
    "\n",
    "modelBAG = BaggingClassifier(base_estimator=None, n_estimators=100, max_samples=1.0, max_features=1.0,\n",
    "                             bootstrap=True, bootstrap_features=False, oob_score=False, warm_start=False,\n",
    "                             n_jobs=None, random_state=None, verbose=0)\n",
    "\n",
    "x='''ModelGB = GradientBoostingClassifier(loss='deviance', learning_rate=0.1, n_estimators=100, subsample=1.0, \n",
    "                                     criterion='friedman_mse', min_samples_split=2, min_samples_leaf=1, \n",
    "                                     min_weight_fraction_leaf=0.0, max_depth=3, min_impurity_decrease=0.0,\n",
    "                                     min_impurity_split=None, init=None, random_state=None,\n",
    "                                     max_features=None, verbose=0, max_leaf_nodes=None, warm_start=False,\n",
    "                                     validation_fraction=0.1, n_iter_no_change=None, tol=0.0001, ccp_alpha=0.0)'''\n",
    "ModelLGB = lgb.LGBMClassifier()\n",
    "ModelGNB = GaussianNB()\n",
    "#EMResults={}\n",
    "# Evalution matrix for all the algorithms\n",
    "\n",
    "MM = [ModelLR, ModelDC, ModelRF, ModelET, ModelKNN, ModelSVM, modelBAG,ModelLGB, ModelGNB]\n",
    "for models in MM:\n",
    "    \n",
    "    # Fit the model\n",
    "    \n",
    "    models.fit(x_train, y_train)\n",
    "    \n",
    "    # Prediction\n",
    "    \n",
    "    y_pred = models.predict(x_test)\n",
    "    y_pred_prob = models.predict_proba(x_test)\n",
    "    \n",
    "    # Print the model name\n",
    "    \n",
    "    print('Model Name: ', models)\n",
    "    \n",
    "    # confusion matrix in sklearn\n",
    "\n",
    "    from sklearn.metrics import confusion_matrix\n",
    "    from sklearn.metrics import classification_report\n",
    "\n",
    "    # actual values\n",
    "\n",
    "    actual = y_test\n",
    "\n",
    "    # predicted values\n",
    "\n",
    "    predicted = y_pred\n",
    "\n",
    "    # confusion matrix\n",
    "\n",
    "    matrix = confusion_matrix(actual,predicted, labels=[1,0],sample_weight=None, normalize=None)\n",
    "    print('Confusion matrix : \\n', matrix)\n",
    "\n",
    "    # outcome values order in sklearn\n",
    "\n",
    "    tp, fn, fp, tn = confusion_matrix(actual,predicted,labels=[1,0]).reshape(-1)\n",
    "    print('Outcome values : \\n', tp, fn, fp, tn)\n",
    "\n",
    "    # classification report for precision, recall f1-score and accuracy\n",
    "\n",
    "    C_Report = classification_report(actual,predicted,labels=[1,0])\n",
    "\n",
    "    print('Classification report : \\n', C_Report)\n",
    "\n",
    "    # calculating the metrics\n",
    "\n",
    "    sensitivity = round(tp/(tp+fn), 3);\n",
    "    specificity = round(tn/(tn+fp), 3);\n",
    "    accuracy = round((tp+tn)/(tp+fp+tn+fn), 3);\n",
    "    balanced_accuracy = round((sensitivity+specificity)/2, 3);\n",
    "    \n",
    "    precision = round(tp/(tp+fp), 3);\n",
    "    f1Score = round((2*tp/(2*tp + fp + fn)), 3);\n",
    "\n",
    "    # Matthews Correlation Coefficient (MCC). Range of values of MCC lie between -1 to +1. \n",
    "    # A model with a score of +1 is a perfect model and -1 is a poor model\n",
    "\n",
    "    from math import sqrt\n",
    "\n",
    "    mx = (tp+fp) * (tp+fn) * (tn+fp) * (tn+fn)\n",
    "    MCC = round(((tp * tn) - (fp * fn)) / sqrt(mx), 3)\n",
    "\n",
    "    print('Accuracy :', round(accuracy*100, 2),'%')\n",
    "    print('Precision :', round(precision*100, 2),'%')\n",
    "    print('Recall :', round(sensitivity*100,2), '%')\n",
    "    print('F1 Score :', f1Score)\n",
    "    print('Specificity or True Negative Rate :', round(specificity*100,2), '%'  )\n",
    "    print('Balanced Accuracy :', round(balanced_accuracy*100, 2),'%')\n",
    "    print('MCC :', MCC)\n",
    "\n",
    "    # Area under ROC curve \n",
    "\n",
    "    from sklearn.metrics import roc_curve, roc_auc_score\n",
    "\n",
    "    print('roc_auc_score:', round(roc_auc_score(actual, predicted), 3))\n",
    "    \n",
    "    # ROC Curve\n",
    "    \n",
    "    from sklearn.metrics import roc_auc_score\n",
    "    from sklearn.metrics import roc_curve\n",
    "    logit_roc_auc = roc_auc_score(actual, predicted)\n",
    "    fpr, tpr, thresholds = roc_curve(actual, models.predict_proba(x_test)[:,1])\n",
    "    plt.figure()\n",
    "    # plt.plot(fpr, tpr, label='Logistic Regression (area = %0.2f)' % logit_roc_auc)\n",
    "    plt.plot(fpr, tpr, label= 'Classification Model' % logit_roc_auc)\n",
    "    plt.plot([0, 1], [0, 1],'r--')\n",
    "    plt.xlim([0.0, 1.0])\n",
    "    plt.ylim([0.0, 1.05])\n",
    "    plt.xlabel('False Positive Rate')\n",
    "    plt.ylabel('True Positive Rate')\n",
    "    plt.title('Receiver operating characteristic')\n",
    "    plt.legend(loc=\"lower right\")\n",
    "    plt.savefig('Log_ROC')\n",
    "    plt.show()\n",
    "    print('-----------------------------------------------------------------------------------------------------')\n",
    "    #----------------------------------------------------------------------------------------------------------\n",
    "    new_row = {'Model Name' : models,\n",
    "               'True_Positive' : tp, \n",
    "               'False_Negative' : fn, \n",
    "               'False_Positive' : fp,\n",
    "               'True_Negative' : tn,\n",
    "               'Accuracy' : accuracy,\n",
    "               'Precision' : precision,\n",
    "               'Recall' : sensitivity,\n",
    "               'F1 Score' : f1Score,\n",
    "               'Specificity' : specificity,\n",
    "               'MCC':MCC,\n",
    "               'ROC_AUC_Score':roc_auc_score(actual, predicted),\n",
    "               'Balanced Accuracy':balanced_accuracy}\n",
    "    EMResults = EMResults.append(new_row, ignore_index=True)\n",
    "    #----------------------------------------------------------------------------------------------------------"
   ]
  },
  {
   "cell_type": "code",
   "execution_count": 16,
   "id": "cb7ad29f",
   "metadata": {},
   "outputs": [
    {
     "data": {
      "text/html": [
       "<div>\n",
       "<style scoped>\n",
       "    .dataframe tbody tr th:only-of-type {\n",
       "        vertical-align: middle;\n",
       "    }\n",
       "\n",
       "    .dataframe tbody tr th {\n",
       "        vertical-align: top;\n",
       "    }\n",
       "\n",
       "    .dataframe thead th {\n",
       "        text-align: right;\n",
       "    }\n",
       "</style>\n",
       "<table border=\"1\" class=\"dataframe\">\n",
       "  <thead>\n",
       "    <tr style=\"text-align: right;\">\n",
       "      <th></th>\n",
       "      <th>Model Name</th>\n",
       "      <th>True_Positive</th>\n",
       "      <th>False_Negative</th>\n",
       "      <th>False_Positive</th>\n",
       "      <th>True_Negative</th>\n",
       "      <th>Accuracy</th>\n",
       "      <th>Precision</th>\n",
       "      <th>Recall</th>\n",
       "      <th>F1 Score</th>\n",
       "      <th>Specificity</th>\n",
       "      <th>MCC</th>\n",
       "      <th>ROC_AUC_Score</th>\n",
       "      <th>Balanced Accuracy</th>\n",
       "    </tr>\n",
       "  </thead>\n",
       "  <tbody>\n",
       "  </tbody>\n",
       "</table>\n",
       "</div>"
      ],
      "text/plain": [
       "Empty DataFrame\n",
       "Columns: [Model Name, True_Positive, False_Negative, False_Positive, True_Negative, Accuracy, Precision, Recall, F1 Score, Specificity, MCC, ROC_AUC_Score, Balanced Accuracy]\n",
       "Index: []"
      ]
     },
     "execution_count": 16,
     "metadata": {},
     "output_type": "execute_result"
    }
   ],
   "source": [
    "# Results with comparing the all the algorithms \n",
    "\n",
    "EMResults.to_csv(\"C:\\\\Users\\\\Dell\\\\Downloads\\\\HTResults.csv\",index=False)\n",
    "\n",
    "EMResults.head(20)"
   ]
  },
  {
   "cell_type": "code",
   "execution_count": 4,
   "id": "f4d04ced",
   "metadata": {},
   "outputs": [
    {
     "data": {
      "text/html": [
       "<div>\n",
       "<style scoped>\n",
       "    .dataframe tbody tr th:only-of-type {\n",
       "        vertical-align: middle;\n",
       "    }\n",
       "\n",
       "    .dataframe tbody tr th {\n",
       "        vertical-align: top;\n",
       "    }\n",
       "\n",
       "    .dataframe thead th {\n",
       "        text-align: right;\n",
       "    }\n",
       "</style>\n",
       "<table border=\"1\" class=\"dataframe\">\n",
       "  <thead>\n",
       "    <tr style=\"text-align: right;\">\n",
       "      <th></th>\n",
       "      <th>6</th>\n",
       "    </tr>\n",
       "  </thead>\n",
       "  <tbody>\n",
       "    <tr>\n",
       "      <th>Model Name</th>\n",
       "      <td>BaggingClassifier(n_estimators=100)</td>\n",
       "    </tr>\n",
       "    <tr>\n",
       "      <th>True_Positive</th>\n",
       "      <td>5047</td>\n",
       "    </tr>\n",
       "    <tr>\n",
       "      <th>False_Negative</th>\n",
       "      <td>571</td>\n",
       "    </tr>\n",
       "    <tr>\n",
       "      <th>False_Positive</th>\n",
       "      <td>505</td>\n",
       "    </tr>\n",
       "    <tr>\n",
       "      <th>True_Negative</th>\n",
       "      <td>7294</td>\n",
       "    </tr>\n",
       "    <tr>\n",
       "      <th>Accuracy</th>\n",
       "      <td>0.92</td>\n",
       "    </tr>\n",
       "    <tr>\n",
       "      <th>Precision</th>\n",
       "      <td>0.909</td>\n",
       "    </tr>\n",
       "    <tr>\n",
       "      <th>Recall</th>\n",
       "      <td>0.898</td>\n",
       "    </tr>\n",
       "    <tr>\n",
       "      <th>F1 Score</th>\n",
       "      <td>0.904</td>\n",
       "    </tr>\n",
       "    <tr>\n",
       "      <th>Specificity</th>\n",
       "      <td>0.935</td>\n",
       "    </tr>\n",
       "    <tr>\n",
       "      <th>MCC</th>\n",
       "      <td>0.835</td>\n",
       "    </tr>\n",
       "    <tr>\n",
       "      <th>ROC_AUC_Score</th>\n",
       "      <td>0.916805</td>\n",
       "    </tr>\n",
       "    <tr>\n",
       "      <th>Balanced Accuracy</th>\n",
       "      <td>0.917</td>\n",
       "    </tr>\n",
       "  </tbody>\n",
       "</table>\n",
       "</div>"
      ],
      "text/plain": [
       "                                                     6\n",
       "Model Name         BaggingClassifier(n_estimators=100)\n",
       "True_Positive                                     5047\n",
       "False_Negative                                     571\n",
       "False_Positive                                     505\n",
       "True_Negative                                     7294\n",
       "Accuracy                                          0.92\n",
       "Precision                                        0.909\n",
       "Recall                                           0.898\n",
       "F1 Score                                         0.904\n",
       "Specificity                                      0.935\n",
       "MCC                                              0.835\n",
       "ROC_AUC_Score                                 0.916805\n",
       "Balanced Accuracy                                0.917"
      ]
     },
     "execution_count": 4,
     "metadata": {},
     "output_type": "execute_result"
    }
   ],
   "source": [
    "# Displaying the record of the best algorithim\n",
    "\n",
    "pd.DataFrame(EMResults.iloc[6,:])"
   ]
  },
  {
   "cell_type": "code",
   "execution_count": 32,
   "id": "5a933263",
   "metadata": {},
   "outputs": [
    {
     "name": "stdout",
     "output_type": "stream",
     "text": [
      "Confusion matrix : \n",
      " [[5045  573]\n",
      " [ 501 7298]]\n",
      "Outcome values : \n",
      " 5045 573 501 7298\n",
      "Classification report : \n",
      "               precision    recall  f1-score   support\n",
      "\n",
      "           1       0.91      0.90      0.90      5618\n",
      "           0       0.93      0.94      0.93      7799\n",
      "\n",
      "    accuracy                           0.92     13417\n",
      "   macro avg       0.92      0.92      0.92     13417\n",
      "weighted avg       0.92      0.92      0.92     13417\n",
      "\n",
      "Accuracy : 92.0 %\n",
      "Precision : 91.0 %\n",
      "Recall : 89.8 %\n",
      "F1 Score : 0.904\n",
      "Specificity or True Negative Rate : 93.6 %\n",
      "Balanced Accuracy : 91.7 %\n",
      "MCC : 0.835\n",
      "roc_auc_score: 0.917\n"
     ]
    },
    {
     "data": {
      "image/png": "[encoded data removed]",
      "text/plain": [
       "<Figure size 432x288 with 1 Axes>"
      ]
     },
     "metadata": {
      "needs_background": "light"
     },
     "output_type": "display_data"
    },
    {
     "name": "stdout",
     "output_type": "stream",
     "text": [
      "-----------------------------------------------------------------------------------------------------\n"
     ]
    }
   ],
   "source": [
    "    # Build the Calssification models and compare the results\n",
    "    from sklearn.ensemble import BaggingClassifier\n",
    "    models = BaggingClassifier(base_estimator=None, n_estimators=100, max_samples=1.0, max_features=1.0,\n",
    "                             bootstrap=True, bootstrap_features=False, oob_score=False, warm_start=False,\n",
    "                             n_jobs=None, random_state=None, verbose=0)\n",
    "    # Fit the model\n",
    "    \n",
    "    models.fit(x_train, y_train)\n",
    "    \n",
    "    # Prediction\n",
    "    \n",
    "    y_pred = models.predict(x_test)\n",
    "    y_pred_prob = models.predict_proba(x_test)\n",
    "    # confusion matrix in sklearn\n",
    "\n",
    "    from sklearn.metrics import confusion_matrix\n",
    "    from sklearn.metrics import classification_report\n",
    "\n",
    "    # actual values\n",
    "\n",
    "    actual = y_test\n",
    "\n",
    "    # predicted values\n",
    "\n",
    "    predicted = y_pred\n",
    "\n",
    "    # confusion matrix\n",
    "\n",
    "    matrix = confusion_matrix(actual,predicted, labels=[1,0],sample_weight=None, normalize=None)\n",
    "    print('Confusion matrix : \\n', matrix)\n",
    "\n",
    "    # outcome values order in sklearn\n",
    "\n",
    "    tp, fn, fp, tn = confusion_matrix(actual,predicted,labels=[1,0]).reshape(-1)\n",
    "    print('Outcome values : \\n', tp, fn, fp, tn)\n",
    "\n",
    "    # classification report for precision, recall f1-score and accuracy\n",
    "\n",
    "    C_Report = classification_report(actual,predicted,labels=[1,0])\n",
    "\n",
    "    print('Classification report : \\n', C_Report)\n",
    "\n",
    "    # calculating the metrics\n",
    "\n",
    "    sensitivity = round(tp/(tp+fn), 3);\n",
    "    specificity = round(tn/(tn+fp), 3);\n",
    "    accuracy = round((tp+tn)/(tp+fp+tn+fn), 3);\n",
    "    balanced_accuracy = round((sensitivity+specificity)/2, 3);\n",
    "    \n",
    "    precision = round(tp/(tp+fp), 3);\n",
    "    f1Score = round((2*tp/(2*tp + fp + fn)), 3);\n",
    "\n",
    "    # Matthews Correlation Coefficient (MCC). Range of values of MCC lie between -1 to +1. \n",
    "    # A model with a score of +1 is a perfect model and -1 is a poor model\n",
    "\n",
    "    from math import sqrt\n",
    "\n",
    "    mx = (tp+fp) * (tp+fn) * (tn+fp) * (tn+fn)\n",
    "    MCC = round(((tp * tn) - (fp * fn)) / sqrt(mx), 3)\n",
    "\n",
    "    print('Accuracy :', round(accuracy*100, 2),'%')\n",
    "    print('Precision :', round(precision*100, 2),'%')\n",
    "    print('Recall :', round(sensitivity*100,2), '%')\n",
    "    print('F1 Score :', f1Score)\n",
    "    print('Specificity or True Negative Rate :', round(specificity*100,2), '%'  )\n",
    "    print('Balanced Accuracy :', round(balanced_accuracy*100, 2),'%')\n",
    "    print('MCC :', MCC)\n",
    "\n",
    "    # Area under ROC curve \n",
    "\n",
    "    from sklearn.metrics import roc_curve, roc_auc_score\n",
    "\n",
    "    print('roc_auc_score:', round(roc_auc_score(actual, predicted), 3))\n",
    "    \n",
    "    # ROC Curve\n",
    "    \n",
    "    from sklearn.metrics import roc_auc_score\n",
    "    from sklearn.metrics import roc_curve\n",
    "    logit_roc_auc = roc_auc_score(actual, predicted)\n",
    "    fpr, tpr, thresholds = roc_curve(actual, models.predict_proba(x_test)[:,1])\n",
    "    plt.figure()\n",
    "    # plt.plot(fpr, tpr, label='Logistic Regression (area = %0.2f)' % logit_roc_auc)\n",
    "    plt.plot(fpr, tpr, label= 'Classification Model' % logit_roc_auc)\n",
    "    plt.plot([0, 1], [0, 1],'r--')\n",
    "    plt.xlim([0.0, 1.0])\n",
    "    plt.ylim([0.0, 1.05])\n",
    "    plt.xlabel('False Positive Rate')\n",
    "    plt.ylabel('True Positive Rate')\n",
    "    plt.title('Receiver operating characteristic')\n",
    "    plt.legend(loc=\"lower right\")\n",
    "    plt.savefig('Log_ROC')\n",
    "    plt.show()\n",
    "    print('-----------------------------------------------------------------------------------------------------')\n",
    "    "
   ]
  },
  {
   "cell_type": "code",
   "execution_count": 34,
   "id": "22e11e64",
   "metadata": {},
   "outputs": [
    {
     "name": "stdout",
     "output_type": "stream",
     "text": [
      "Fitting 3 folds for each of 125 candidates, totalling 375 fits\n"
     ]
    }
   ],
   "source": [
    "# performing tuning with Grid search\n",
    "\n",
    "from sklearn.model_selection import train_test_split, GridSearchCV\n",
    "#Setting values for the parameters\n",
    "n_estimators = [100, 300, 500, 800, 1200]\n",
    "#max_depth = [5, 10, 15, 25, 30]\n",
    "max_samples = [5, 10, 25, 50, 100]\n",
    "max_features = [1, 2, 5, 10, 13]\n",
    "\n",
    "#Creating a dictionary for the hyper parameters\n",
    "hyperbag = dict(n_estimators = n_estimators, max_samples = max_samples, \n",
    "              max_features = max_features)\n",
    "\n",
    "#Applying GridSearchCV to get the best value for hyperparameters\n",
    "gridbag = GridSearchCV(models, hyperbag, cv = 3, verbose = 1, n_jobs = -1)\n",
    "bestbag = gridbag.fit(x_train, y_train)"
   ]
  },
  {
   "cell_type": "code",
   "execution_count": 38,
   "id": "58f49b7a",
   "metadata": {},
   "outputs": [
    {
     "name": "stdout",
     "output_type": "stream",
     "text": [
      "GridSearchCV(cv=3, estimator=BaggingClassifier(n_estimators=100), n_jobs=-1,\n",
      "             param_grid={'max_features': [1, 2, 5, 10, 13],\n",
      "                         'max_samples': [5, 10, 25, 50, 100],\n",
      "                         'n_estimators': [100, 300, 500, 800, 1200]},\n",
      "             verbose=1)\n",
      "The best hyper parameters are:\n",
      " {'max_features': 5, 'max_samples': 100, 'n_estimators': 300}\n"
     ]
    }
   ],
   "source": [
    "# Printing best parameters\n",
    "\n",
    "print(bestbag)\n",
    "print('The best hyper parameters are:\\n',gridbag.best_params_)"
   ]
  },
  {
   "cell_type": "code",
   "execution_count": 37,
   "id": "df96bb4c",
   "metadata": {},
   "outputs": [
    {
     "name": "stdout",
     "output_type": "stream",
     "text": [
      "Confusion matrix : \n",
      " [[3465 2153]\n",
      " [ 780 7019]]\n",
      "Outcome values : \n",
      " 3465 2153 780 7019\n",
      "Classification report : \n",
      "               precision    recall  f1-score   support\n",
      "\n",
      "           1       0.82      0.62      0.70      5618\n",
      "           0       0.77      0.90      0.83      7799\n",
      "\n",
      "    accuracy                           0.78     13417\n",
      "   macro avg       0.79      0.76      0.76     13417\n",
      "weighted avg       0.79      0.78      0.78     13417\n",
      "\n",
      "Accuracy : 78.1 %\n",
      "Precision : 81.6 %\n",
      "Recall : 61.7 %\n",
      "F1 Score : 0.703\n",
      "Specificity or True Negative Rate : 90.0 %\n",
      "Balanced Accuracy : 75.8 %\n",
      "MCC : 0.548\n",
      "roc_auc_score: 0.758\n"
     ]
    },
    {
     "data": {
      "image/png": "[encoded data removed]",
      "text/plain": [
       "<Figure size 432x288 with 1 Axes>"
      ]
     },
     "metadata": {
      "needs_background": "light"
     },
     "output_type": "display_data"
    },
    {
     "name": "stdout",
     "output_type": "stream",
     "text": [
      "-----------------------------------------------------------------------------------------------------\n"
     ]
    }
   ],
   "source": [
    "    # Build the Calssification models and compare the results\n",
    "    from sklearn.ensemble import BaggingClassifier\n",
    "    models = BaggingClassifier(base_estimator=None, n_estimators=300, max_samples=100, max_features=5,\n",
    "                             bootstrap=True, bootstrap_features=False, oob_score=False, warm_start=False,\n",
    "                             n_jobs=None, random_state=None, verbose=0)\n",
    "    # Fit the model\n",
    "    \n",
    "    models.fit(x_train, y_train)\n",
    "    \n",
    "    # Prediction\n",
    "    \n",
    "    y_pred = models.predict(x_test)\n",
    "    y_pred_prob = models.predict_proba(x_test)\n",
    "    # confusion matrix in sklearn\n",
    "\n",
    "    from sklearn.metrics import confusion_matrix\n",
    "    from sklearn.metrics import classification_report\n",
    "\n",
    "    # actual values\n",
    "\n",
    "    actual = y_test\n",
    "\n",
    "    # predicted values\n",
    "\n",
    "    predicted = y_pred\n",
    "\n",
    "    # confusion matrix\n",
    "\n",
    "    matrix = confusion_matrix(actual,predicted, labels=[1,0],sample_weight=None, normalize=None)\n",
    "    print('Confusion matrix : \\n', matrix)\n",
    "\n",
    "    # outcome values order in sklearn\n",
    "\n",
    "    tp, fn, fp, tn = confusion_matrix(actual,predicted,labels=[1,0]).reshape(-1)\n",
    "    print('Outcome values : \\n', tp, fn, fp, tn)\n",
    "\n",
    "    # classification report for precision, recall f1-score and accuracy\n",
    "\n",
    "    C_Report = classification_report(actual,predicted,labels=[1,0])\n",
    "\n",
    "    print('Classification report : \\n', C_Report)\n",
    "\n",
    "    # calculating the metrics\n",
    "\n",
    "    sensitivity = round(tp/(tp+fn), 3);\n",
    "    specificity = round(tn/(tn+fp), 3);\n",
    "    accuracy = round((tp+tn)/(tp+fp+tn+fn), 3);\n",
    "    balanced_accuracy = round((sensitivity+specificity)/2, 3);\n",
    "    \n",
    "    precision = round(tp/(tp+fp), 3);\n",
    "    f1Score = round((2*tp/(2*tp + fp + fn)), 3);\n",
    "\n",
    "    # Matthews Correlation Coefficient (MCC). Range of values of MCC lie between -1 to +1. \n",
    "    # A model with a score of +1 is a perfect model and -1 is a poor model\n",
    "\n",
    "    from math import sqrt\n",
    "\n",
    "    mx = (tp+fp) * (tp+fn) * (tn+fp) * (tn+fn)\n",
    "    MCC = round(((tp * tn) - (fp * fn)) / sqrt(mx), 3)\n",
    "\n",
    "    print('Accuracy :', round(accuracy*100, 2),'%')\n",
    "    print('Precision :', round(precision*100, 2),'%')\n",
    "    print('Recall :', round(sensitivity*100,2), '%')\n",
    "    print('F1 Score :', f1Score)\n",
    "    print('Specificity or True Negative Rate :', round(specificity*100,2), '%'  )\n",
    "    print('Balanced Accuracy :', round(balanced_accuracy*100, 2),'%')\n",
    "    print('MCC :', MCC)\n",
    "\n",
    "    # Area under ROC curve \n",
    "\n",
    "    from sklearn.metrics import roc_curve, roc_auc_score\n",
    "\n",
    "    print('roc_auc_score:', round(roc_auc_score(actual, predicted), 3))\n",
    "    \n",
    "    # ROC Curve\n",
    "    \n",
    "    from sklearn.metrics import roc_auc_score\n",
    "    from sklearn.metrics import roc_curve\n",
    "    logit_roc_auc = roc_auc_score(actual, predicted)\n",
    "    fpr, tpr, thresholds = roc_curve(actual, models.predict_proba(x_test)[:,1])\n",
    "    plt.figure()\n",
    "    # plt.plot(fpr, tpr, label='Logistic Regression (area = %0.2f)' % logit_roc_auc)\n",
    "    plt.plot(fpr, tpr, label= 'Classification Model' % logit_roc_auc)\n",
    "    plt.plot([0, 1], [0, 1],'r--')\n",
    "    plt.xlim([0.0, 1.0])\n",
    "    plt.ylim([0.0, 1.05])\n",
    "    plt.xlabel('False Positive Rate')\n",
    "    plt.ylabel('True Positive Rate')\n",
    "    plt.title('Receiver operating characteristic')\n",
    "    plt.legend(loc=\"lower right\")\n",
    "    plt.savefig('Log_ROC')\n",
    "    plt.show()\n",
    "    print('-----------------------------------------------------------------------------------------------------')\n",
    "    "
   ]
  },
  {
   "cell_type": "code",
   "execution_count": 46,
   "id": "bf6e9907",
   "metadata": {},
   "outputs": [],
   "source": [
    "#  LINK - https://www.kaggle.com/datasets/yashsharan/the-elec2-dataset"
   ]
  },
  {
   "cell_type": "code",
   "execution_count": 45,
   "id": "4c9d3346",
   "metadata": {},
   "outputs": [
    {
     "data": {
      "image/png": "[encoded data removed]",
      "text/plain": [
       "<Figure size 432x288 with 1 Axes>"
      ]
     },
     "metadata": {},
     "output_type": "display_data"
    }
   ],
   "source": [
    "# reading the database\n",
    "Edata = pd.read_csv(\"C:\\\\Users\\\\Dell\\\\Downloads\\\\electricity.csv\")\n",
    " \n",
    "sns.scatterplot(x='nswprice', y='nswdemand', data=Edata)\n",
    "plt.show()"
   ]
  },
  {
   "cell_type": "code",
   "execution_count": 46,
   "id": "131368d1",
   "metadata": {},
   "outputs": [
    {
     "data": {
      "image/png": "[encoded data removed]",
      "text/plain": [
       "<Figure size 432x288 with 1 Axes>"
      ]
     },
     "metadata": {},
     "output_type": "display_data"
    }
   ],
   "source": [
    "# reading the database\n",
    "Edata = pd.read_csv(\"C:\\\\Users\\\\Dell\\\\Downloads\\\\electricity.csv\")\n",
    " \n",
    "sns.scatterplot(x='vicprice', y='vicdemand', data=Edata)\n",
    "plt.show()"
   ]
  },
  {
   "cell_type": "code",
   "execution_count": 24,
   "id": "863b4ef9",
   "metadata": {},
   "outputs": [
    {
     "data": {
      "text/plain": [
       "Index(['date', 'day', 'period', 'nswprice', 'nswdemand', 'vicprice',\n",
       "       'vicdemand', 'transfer', 'Class'],\n",
       "      dtype='object')"
      ]
     },
     "execution_count": 24,
     "metadata": {},
     "output_type": "execute_result"
    }
   ],
   "source": [
    "Edata.columns"
   ]
  },
  {
   "cell_type": "code",
   "execution_count": 36,
   "id": "64b23f87",
   "metadata": {},
   "outputs": [
    {
     "data": {
      "text/html": [
       "<div>\n",
       "<style scoped>\n",
       "    .dataframe tbody tr th:only-of-type {\n",
       "        vertical-align: middle;\n",
       "    }\n",
       "\n",
       "    .dataframe tbody tr th {\n",
       "        vertical-align: top;\n",
       "    }\n",
       "\n",
       "    .dataframe thead th {\n",
       "        text-align: right;\n",
       "    }\n",
       "</style>\n",
       "<table border=\"1\" class=\"dataframe\">\n",
       "  <thead>\n",
       "    <tr style=\"text-align: right;\">\n",
       "      <th></th>\n",
       "      <th>date</th>\n",
       "      <th>day</th>\n",
       "      <th>period</th>\n",
       "      <th>nswprice</th>\n",
       "      <th>nswdemand</th>\n",
       "      <th>vicprice</th>\n",
       "      <th>vicdemand</th>\n",
       "      <th>transfer</th>\n",
       "      <th>class</th>\n",
       "    </tr>\n",
       "  </thead>\n",
       "  <tbody>\n",
       "    <tr>\n",
       "      <th>0</th>\n",
       "      <td>0.0000</td>\n",
       "      <td>2</td>\n",
       "      <td>0.000000</td>\n",
       "      <td>0.056443</td>\n",
       "      <td>0.439155</td>\n",
       "      <td>0.003467</td>\n",
       "      <td>0.422915</td>\n",
       "      <td>0.414912</td>\n",
       "      <td>UP</td>\n",
       "    </tr>\n",
       "    <tr>\n",
       "      <th>1</th>\n",
       "      <td>0.0000</td>\n",
       "      <td>2</td>\n",
       "      <td>0.021277</td>\n",
       "      <td>0.051699</td>\n",
       "      <td>0.415055</td>\n",
       "      <td>0.003467</td>\n",
       "      <td>0.422915</td>\n",
       "      <td>0.414912</td>\n",
       "      <td>UP</td>\n",
       "    </tr>\n",
       "    <tr>\n",
       "      <th>2</th>\n",
       "      <td>0.0000</td>\n",
       "      <td>2</td>\n",
       "      <td>0.042553</td>\n",
       "      <td>0.051489</td>\n",
       "      <td>0.385004</td>\n",
       "      <td>0.003467</td>\n",
       "      <td>0.422915</td>\n",
       "      <td>0.414912</td>\n",
       "      <td>UP</td>\n",
       "    </tr>\n",
       "    <tr>\n",
       "      <th>3</th>\n",
       "      <td>0.0000</td>\n",
       "      <td>2</td>\n",
       "      <td>0.063830</td>\n",
       "      <td>0.045485</td>\n",
       "      <td>0.314639</td>\n",
       "      <td>0.003467</td>\n",
       "      <td>0.422915</td>\n",
       "      <td>0.414912</td>\n",
       "      <td>UP</td>\n",
       "    </tr>\n",
       "    <tr>\n",
       "      <th>4</th>\n",
       "      <td>0.0000</td>\n",
       "      <td>2</td>\n",
       "      <td>0.085106</td>\n",
       "      <td>0.042482</td>\n",
       "      <td>0.251116</td>\n",
       "      <td>0.003467</td>\n",
       "      <td>0.422915</td>\n",
       "      <td>0.414912</td>\n",
       "      <td>DOWN</td>\n",
       "    </tr>\n",
       "    <tr>\n",
       "      <th>...</th>\n",
       "      <td>...</td>\n",
       "      <td>...</td>\n",
       "      <td>...</td>\n",
       "      <td>...</td>\n",
       "      <td>...</td>\n",
       "      <td>...</td>\n",
       "      <td>...</td>\n",
       "      <td>...</td>\n",
       "      <td>...</td>\n",
       "    </tr>\n",
       "    <tr>\n",
       "      <th>45307</th>\n",
       "      <td>0.9158</td>\n",
       "      <td>7</td>\n",
       "      <td>0.914894</td>\n",
       "      <td>0.044224</td>\n",
       "      <td>0.340672</td>\n",
       "      <td>0.003033</td>\n",
       "      <td>0.255049</td>\n",
       "      <td>0.405263</td>\n",
       "      <td>DOWN</td>\n",
       "    </tr>\n",
       "    <tr>\n",
       "      <th>45308</th>\n",
       "      <td>0.9158</td>\n",
       "      <td>7</td>\n",
       "      <td>0.936170</td>\n",
       "      <td>0.044884</td>\n",
       "      <td>0.355549</td>\n",
       "      <td>0.003072</td>\n",
       "      <td>0.241326</td>\n",
       "      <td>0.420614</td>\n",
       "      <td>DOWN</td>\n",
       "    </tr>\n",
       "    <tr>\n",
       "      <th>45309</th>\n",
       "      <td>0.9158</td>\n",
       "      <td>7</td>\n",
       "      <td>0.957447</td>\n",
       "      <td>0.043593</td>\n",
       "      <td>0.340970</td>\n",
       "      <td>0.002983</td>\n",
       "      <td>0.247799</td>\n",
       "      <td>0.362281</td>\n",
       "      <td>DOWN</td>\n",
       "    </tr>\n",
       "    <tr>\n",
       "      <th>45310</th>\n",
       "      <td>0.9158</td>\n",
       "      <td>7</td>\n",
       "      <td>0.978723</td>\n",
       "      <td>0.066651</td>\n",
       "      <td>0.329366</td>\n",
       "      <td>0.004630</td>\n",
       "      <td>0.345417</td>\n",
       "      <td>0.206579</td>\n",
       "      <td>UP</td>\n",
       "    </tr>\n",
       "    <tr>\n",
       "      <th>45311</th>\n",
       "      <td>0.9158</td>\n",
       "      <td>7</td>\n",
       "      <td>1.000000</td>\n",
       "      <td>0.050679</td>\n",
       "      <td>0.288753</td>\n",
       "      <td>0.003542</td>\n",
       "      <td>0.355256</td>\n",
       "      <td>0.231140</td>\n",
       "      <td>DOWN</td>\n",
       "    </tr>\n",
       "  </tbody>\n",
       "</table>\n",
       "<p>45312 rows × 9 columns</p>\n",
       "</div>"
      ],
      "text/plain": [
       "         date  day    period  nswprice  nswdemand  vicprice  vicdemand  \\\n",
       "0      0.0000    2  0.000000  0.056443   0.439155  0.003467   0.422915   \n",
       "1      0.0000    2  0.021277  0.051699   0.415055  0.003467   0.422915   \n",
       "2      0.0000    2  0.042553  0.051489   0.385004  0.003467   0.422915   \n",
       "3      0.0000    2  0.063830  0.045485   0.314639  0.003467   0.422915   \n",
       "4      0.0000    2  0.085106  0.042482   0.251116  0.003467   0.422915   \n",
       "...       ...  ...       ...       ...        ...       ...        ...   \n",
       "45307  0.9158    7  0.914894  0.044224   0.340672  0.003033   0.255049   \n",
       "45308  0.9158    7  0.936170  0.044884   0.355549  0.003072   0.241326   \n",
       "45309  0.9158    7  0.957447  0.043593   0.340970  0.002983   0.247799   \n",
       "45310  0.9158    7  0.978723  0.066651   0.329366  0.004630   0.345417   \n",
       "45311  0.9158    7  1.000000  0.050679   0.288753  0.003542   0.355256   \n",
       "\n",
       "       transfer class  \n",
       "0      0.414912    UP  \n",
       "1      0.414912    UP  \n",
       "2      0.414912    UP  \n",
       "3      0.414912    UP  \n",
       "4      0.414912  DOWN  \n",
       "...         ...   ...  \n",
       "45307  0.405263  DOWN  \n",
       "45308  0.420614  DOWN  \n",
       "45309  0.362281  DOWN  \n",
       "45310  0.206579    UP  \n",
       "45311  0.231140  DOWN  \n",
       "\n",
       "[45312 rows x 9 columns]"
      ]
     },
     "execution_count": 36,
     "metadata": {},
     "output_type": "execute_result"
    }
   ],
   "source": [
    "Edata = pd.read_csv(r\"C:\\\\Users\\\\Dell\\\\Downloads\\\\electricity.csv\", header=0)\n",
    "\n",
    "Edata"
   ]
  },
  {
   "cell_type": "code",
   "execution_count": null,
   "id": "aeb921a9",
   "metadata": {},
   "outputs": [],
   "source": []
  }
 ],
 "metadata": {
  "kernelspec": {
   "display_name": "Python 3 (ipykernel)",
   "language": "python",
   "name": "python3"
  },
  "language_info": {
   "codemirror_mode": {
    "name": "ipython",
    "version": 3
   },
   "file_extension": ".py",
   "mimetype": "text/x-python",
   "name": "python",
   "nbconvert_exporter": "python",
   "pygments_lexer": "ipython3",
   "version": "3.9.12"
  }
 },
 "nbformat": 4,
 "nbformat_minor": 5
}
